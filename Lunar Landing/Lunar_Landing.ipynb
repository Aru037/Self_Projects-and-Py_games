{
  "cells": [
    {
      "cell_type": "markdown",
      "metadata": {
        "id": "LbZcI9ZXHl3a"
      },
      "source": [
        "# Deep Q-Learning for Lunar Landing"
      ]
    },
    {
      "cell_type": "markdown",
      "metadata": {
        "id": "E8yPRjteXgPb"
      },
      "source": [
        "## Part 0 - Installing the required packages and importing the libraries"
      ]
    },
    {
      "cell_type": "markdown",
      "metadata": {
        "id": "slEm5teGWjWU"
      },
      "source": [
        "### Installing Gymnasium"
      ]
    },
    {
      "cell_type": "code",
      "source": [
        "!pip install gymnasium\n",
        "!pip install \"gymnasium[atari,accept-rom-license]\"\n",
        "!apt-get install -y swig\n",
        "!pip install gymnasium[box2d]"
      ],
      "metadata": {
        "colab": {
          "base_uri": "https://localhost:8080/"
        },
        "id": "pSqb-xwMipcc",
        "outputId": "d7ef4618-5dd9-4767-92c1-ace6b39473bf"
      },
      "execution_count": null,
      "outputs": [
        {
          "output_type": "stream",
          "name": "stdout",
          "text": [
            "Requirement already satisfied: gymnasium in /usr/local/lib/python3.11/dist-packages (1.0.0)\n",
            "Requirement already satisfied: numpy>=1.21.0 in /usr/local/lib/python3.11/dist-packages (from gymnasium) (1.26.4)\n",
            "Requirement already satisfied: cloudpickle>=1.2.0 in /usr/local/lib/python3.11/dist-packages (from gymnasium) (3.1.0)\n",
            "Requirement already satisfied: typing-extensions>=4.3.0 in /usr/local/lib/python3.11/dist-packages (from gymnasium) (4.12.2)\n",
            "Requirement already satisfied: farama-notifications>=0.0.1 in /usr/local/lib/python3.11/dist-packages (from gymnasium) (0.0.4)\n",
            "Requirement already satisfied: gymnasium[accept-rom-license,atari] in /usr/local/lib/python3.11/dist-packages (1.0.0)\n",
            "\u001b[33mWARNING: gymnasium 1.0.0 does not provide the extra 'accept-rom-license'\u001b[0m\u001b[33m\n",
            "\u001b[0mRequirement already satisfied: numpy>=1.21.0 in /usr/local/lib/python3.11/dist-packages (from gymnasium[accept-rom-license,atari]) (1.26.4)\n",
            "Requirement already satisfied: cloudpickle>=1.2.0 in /usr/local/lib/python3.11/dist-packages (from gymnasium[accept-rom-license,atari]) (3.1.0)\n",
            "Requirement already satisfied: typing-extensions>=4.3.0 in /usr/local/lib/python3.11/dist-packages (from gymnasium[accept-rom-license,atari]) (4.12.2)\n",
            "Requirement already satisfied: farama-notifications>=0.0.1 in /usr/local/lib/python3.11/dist-packages (from gymnasium[accept-rom-license,atari]) (0.0.4)\n",
            "Requirement already satisfied: ale-py>=0.9 in /usr/local/lib/python3.11/dist-packages (from gymnasium[accept-rom-license,atari]) (0.10.1)\n",
            "Reading package lists... Done\n",
            "Building dependency tree... Done\n",
            "Reading state information... Done\n",
            "swig is already the newest version (4.0.2-1ubuntu1).\n",
            "0 upgraded, 0 newly installed, 0 to remove and 49 not upgraded.\n",
            "Requirement already satisfied: gymnasium[box2d] in /usr/local/lib/python3.11/dist-packages (1.0.0)\n",
            "Requirement already satisfied: numpy>=1.21.0 in /usr/local/lib/python3.11/dist-packages (from gymnasium[box2d]) (1.26.4)\n",
            "Requirement already satisfied: cloudpickle>=1.2.0 in /usr/local/lib/python3.11/dist-packages (from gymnasium[box2d]) (3.1.0)\n",
            "Requirement already satisfied: typing-extensions>=4.3.0 in /usr/local/lib/python3.11/dist-packages (from gymnasium[box2d]) (4.12.2)\n",
            "Requirement already satisfied: farama-notifications>=0.0.1 in /usr/local/lib/python3.11/dist-packages (from gymnasium[box2d]) (0.0.4)\n",
            "Requirement already satisfied: box2d-py==2.3.5 in /usr/local/lib/python3.11/dist-packages (from gymnasium[box2d]) (2.3.5)\n",
            "Requirement already satisfied: pygame>=2.1.3 in /usr/local/lib/python3.11/dist-packages (from gymnasium[box2d]) (2.6.1)\n",
            "Requirement already satisfied: swig==4.* in /usr/local/lib/python3.11/dist-packages (from gymnasium[box2d]) (4.3.0)\n"
          ]
        }
      ]
    },
    {
      "cell_type": "markdown",
      "metadata": {
        "id": "brqiMN3UW9T9"
      },
      "source": [
        "### Importing the libraries"
      ]
    },
    {
      "cell_type": "code",
      "source": [
        "import os\n",
        "import random\n",
        "import numpy as np\n",
        "import torch\n",
        "import torch.nn as nn\n",
        "import torch.optim as optim\n",
        "import torch.nn.functional as F\n",
        "import torch.autograd as autograd\n",
        "from torch.autograd import Variable\n",
        "from collections import deque, namedtuple"
      ],
      "metadata": {
        "id": "Uz1SQmlkjdOH"
      },
      "execution_count": null,
      "outputs": []
    },
    {
      "cell_type": "markdown",
      "metadata": {
        "id": "EzlDKXvkXzGI"
      },
      "source": [
        "## Part 1 - Building the AI"
      ]
    },
    {
      "cell_type": "markdown",
      "metadata": {
        "id": "UtG6Zc83YYy3"
      },
      "source": [
        "### Creating the architecture of the Neural Network"
      ]
    },
    {
      "cell_type": "code",
      "source": [
        "class Network(nn.Module):\n",
        "\n",
        "  def __init__(self, state_size, action_size, seed = 42):\n",
        "    super(Network, self).__init__()\n",
        "    self.seed = torch.manual_seed(seed)\n",
        "    self.fc1 = nn.Linear(state_size, 64)\n",
        "    self.fc2 = nn.Linear(64, 64)\n",
        "    self.fc3 = nn.Linear(64, action_size)\n",
        "\n",
        "  def forward(self, state):\n",
        "    x = self.fc1(state)\n",
        "    x = F.relu(x)\n",
        "    x = self.fc2(x)\n",
        "    x = F.relu(x)\n",
        "    return self.fc3(x)"
      ],
      "metadata": {
        "id": "SSNLB7-bkmJW"
      },
      "execution_count": null,
      "outputs": []
    },
    {
      "cell_type": "markdown",
      "metadata": {
        "id": "UxVrBnFWZKb1"
      },
      "source": [
        "## Part 2 - Training the AI"
      ]
    },
    {
      "cell_type": "markdown",
      "metadata": {
        "id": "T364fz9qZb2j"
      },
      "source": [
        "### Setting up the environment"
      ]
    },
    {
      "cell_type": "code",
      "source": [
        "import gymnasium as gym\n",
        "env = gym.make('LunarLander-v3') # The Lunar Lander environment was upgraded to v3\n",
        "state_shape = env.observation_space.shape\n",
        "state_size = env.observation_space.shape[0]\n",
        "number_actions = env.action_space.n\n",
        "print('State shape: ', state_shape)\n",
        "print('State size: ', state_size)\n",
        "print('Number of actions: ', number_actions)"
      ],
      "metadata": {
        "colab": {
          "base_uri": "https://localhost:8080/"
        },
        "id": "OkdAt0EjkCEu",
        "outputId": "8a8bb6f6-dc5c-446c-9d1a-5a41917b7c3c"
      },
      "execution_count": null,
      "outputs": [
        {
          "output_type": "stream",
          "name": "stdout",
          "text": [
            "State shape:  (8,)\n",
            "State size:  8\n",
            "Number of actions:  4\n"
          ]
        }
      ]
    },
    {
      "cell_type": "markdown",
      "metadata": {
        "id": "c_dZmOIvZgj-"
      },
      "source": [
        "### Initializing the hyperparameters"
      ]
    },
    {
      "cell_type": "code",
      "source": [
        "learning_rate = 5e-4\n",
        "minibatch_size = 100\n",
        "discount_factor = 0.99\n",
        "replay_buffer_size = int(1e5)\n",
        "interpolation_parameter = 1e-3"
      ],
      "metadata": {
        "id": "BE1h-aIIqUfN"
      },
      "execution_count": null,
      "outputs": []
    },
    {
      "cell_type": "markdown",
      "metadata": {
        "id": "8hD_Vs-bYnip"
      },
      "source": [
        "### Implementing Experience Replay"
      ]
    },
    {
      "cell_type": "code",
      "source": [
        "class ReplayMemory(object):\n",
        "\n",
        "  def __init__(self, capacity):\n",
        "    self.device = torch.device(\"cuda:0\" if torch.cuda.is_available() else \"cpu\")\n",
        "    self.capacity = capacity\n",
        "    self.memory = []\n",
        "\n",
        "  def push(self, event):\n",
        "    self.memory.append(event)\n",
        "    if len(self.memory) > self.capacity:\n",
        "      del self.memory[0]\n",
        "\n",
        "  def sample(self, batch_size):\n",
        "    experiences = random.sample(self.memory, k = batch_size)\n",
        "    states = torch.from_numpy(np.vstack([e[0] for e in experiences if e is not None])).float().to(self.device)\n",
        "    actions = torch.from_numpy(np.vstack([e[1] for e in experiences if e is not None])).long().to(self.device)\n",
        "    rewards = torch.from_numpy(np.vstack([e[2] for e in experiences if e is not None])).float().to(self.device)\n",
        "    next_states = torch.from_numpy(np.vstack([e[3] for e in experiences if e is not None])).float().to(self.device)\n",
        "    dones = torch.from_numpy(np.vstack([e[4] for e in experiences if e is not None]).astype(np.uint8)).float().to(self.device)\n",
        "    return states, next_states, actions, rewards, dones"
      ],
      "metadata": {
        "id": "BvDLEaS6rpEt"
      },
      "execution_count": null,
      "outputs": []
    },
    {
      "cell_type": "markdown",
      "metadata": {
        "id": "JmEkbFbUY6Jt"
      },
      "source": [
        "### Implementing the DQN class"
      ]
    },
    {
      "cell_type": "code",
      "source": [
        "class Agent():\n",
        "\n",
        "  def __init__(self, state_size, action_size):\n",
        "    self.device = torch.device(\"cuda:0\" if torch.cuda.is_available() else \"cpu\")\n",
        "    self.state_size = state_size\n",
        "    self.action_size = action_size\n",
        "    self.local_qnetwork = Network(state_size, action_size).to(self.device)\n",
        "    self.target_qnetwork = Network(state_size, action_size).to(self.device)\n",
        "    self.optimizer = optim.Adam(self.local_qnetwork.parameters(), lr = learning_rate)\n",
        "    self.memory = ReplayMemory(replay_buffer_size)\n",
        "    self.t_step = 0\n",
        "\n",
        "  def step(self, state, action, reward, next_state, done):\n",
        "    self.memory.push((state, action, reward, next_state, done))\n",
        "    self.t_step = (self.t_step + 1) % 4\n",
        "    if self.t_step == 0:\n",
        "      if len(self.memory.memory) > minibatch_size:\n",
        "        experiences = self.memory.sample(100)\n",
        "        self.learn(experiences, discount_factor)\n",
        "\n",
        "  def act(self, state, epsilon = 0.):\n",
        "    state = torch.from_numpy(state).float().unsqueeze(0).to(self.device)\n",
        "    self.local_qnetwork.eval()\n",
        "    with torch.no_grad():\n",
        "      action_values = self.local_qnetwork(state)\n",
        "    self.local_qnetwork.train()\n",
        "    if random.random() > epsilon:\n",
        "      return np.argmax(action_values.cpu().data.numpy())\n",
        "    else:\n",
        "      return random.choice(np.arange(self.action_size))\n",
        "\n",
        "  def learn(self, experiences, discount_factor):\n",
        "    states, next_states, actions, rewards, dones = experiences\n",
        "    next_q_targets = self.target_qnetwork(next_states).detach().max(1)[0].unsqueeze(1)\n",
        "    q_targets = rewards + discount_factor * next_q_targets * (1 - dones)\n",
        "    q_expected = self.local_qnetwork(states).gather(1, actions)\n",
        "    loss = F.mse_loss(q_expected, q_targets)\n",
        "    self.optimizer.zero_grad()\n",
        "    loss.backward()\n",
        "    self.optimizer.step()\n",
        "    self.soft_update(self.local_qnetwork, self.target_qnetwork, interpolation_parameter)\n",
        "\n",
        "  def soft_update(self, local_model, target_model, interpolation_parameter):\n",
        "    for target_param, local_param in zip(target_model.parameters(), local_model.parameters()):\n",
        "      target_param.data.copy_(interpolation_parameter * local_param.data + (1.0 - interpolation_parameter) * target_param.data)"
      ],
      "metadata": {
        "id": "yWCw_VmEwkgx"
      },
      "execution_count": null,
      "outputs": []
    },
    {
      "cell_type": "markdown",
      "metadata": {
        "id": "o1tZElccZmf6"
      },
      "source": [
        "### Initializing the DQN agent"
      ]
    },
    {
      "cell_type": "code",
      "source": [
        "agent = Agent(state_size, number_actions)"
      ],
      "metadata": {
        "id": "RdgcC0Loy6Pi"
      },
      "execution_count": null,
      "outputs": []
    },
    {
      "cell_type": "markdown",
      "metadata": {
        "id": "E8v0PtUfaVQp"
      },
      "source": [
        "### Training the DQN agent"
      ]
    },
    {
      "cell_type": "code",
      "source": [
        "number_episodes = 2000\n",
        "maximum_number_timesteps_per_episode = 1000\n",
        "epsilon_starting_value  = 1.0\n",
        "epsilon_ending_value  = 0.01\n",
        "epsilon_decay_value  = 0.995\n",
        "epsilon = epsilon_starting_value\n",
        "scores_on_100_episodes = deque(maxlen = 100)\n",
        "\n",
        "for episode in range(1, number_episodes + 1):\n",
        "  state, _ = env.reset()\n",
        "  score = 0\n",
        "  for t in range(maximum_number_timesteps_per_episode):\n",
        "    action = agent.act(state, epsilon)\n",
        "    next_state, reward, done, _, _ = env.step(action)\n",
        "    agent.step(state, action, reward, next_state, done)\n",
        "    state = next_state\n",
        "    score += reward\n",
        "    if done:\n",
        "      break\n",
        "  scores_on_100_episodes.append(score)\n",
        "  epsilon = max(epsilon_ending_value, epsilon_decay_value * epsilon)\n",
        "  print('\\rEpisode {}\\tAverage Score: {:.2f}'.format(episode, np.mean(scores_on_100_episodes)), end = \"\")\n",
        "  if episode % 100 == 0:\n",
        "    print('\\rEpisode {}\\tAverage Score: {:.2f}'.format(episode, np.mean(scores_on_100_episodes)))\n",
        "  if np.mean(scores_on_100_episodes) >= 200.0:\n",
        "    print('\\nEnvironment solved in {:d} episodes!\\tAverage Score: {:.2f}'.format(episode - 100, np.mean(scores_on_100_episodes)))\n",
        "    torch.save(agent.local_qnetwork.state_dict(), 'checkpoint.pth')\n",
        "    break"
      ],
      "metadata": {
        "colab": {
          "base_uri": "https://localhost:8080/"
        },
        "id": "J0wAnw6qzMFj",
        "outputId": "97bba1af-ad12-45cd-d7c9-c82ad1b39fe0"
      },
      "execution_count": null,
      "outputs": [
        {
          "output_type": "stream",
          "name": "stdout",
          "text": [
            "Episode 100\tAverage Score: -160.45\n",
            "Episode 200\tAverage Score: -93.31\n",
            "Episode 300\tAverage Score: -22.13\n",
            "Episode 400\tAverage Score: 88.40\n",
            "Episode 500\tAverage Score: 171.05\n",
            "Episode 600\tAverage Score: 172.76\n",
            "Episode 700\tAverage Score: 172.45\n",
            "Episode 758\tAverage Score: 200.72\n",
            "Environment solved in 658 episodes!\tAverage Score: 200.72\n"
          ]
        }
      ]
    },
    {
      "cell_type": "markdown",
      "metadata": {
        "id": "O8CNwdOTcCoP"
      },
      "source": [
        "## Part 3 - Visualizing the results"
      ]
    },
    {
      "cell_type": "code",
      "source": [
        "import glob\n",
        "import io\n",
        "import base64\n",
        "import imageio\n",
        "from IPython.display import HTML, display\n",
        "\n",
        "def show_video_of_model(agent, env_name):\n",
        "    env = gym.make(env_name, render_mode='rgb_array')\n",
        "    state, _ = env.reset()\n",
        "    done = False\n",
        "    frames = []\n",
        "    while not done:\n",
        "        frame = env.render()\n",
        "        frames.append(frame)\n",
        "        action = agent.act(state)\n",
        "        state, reward, done, _, _ = env.step(action.item())\n",
        "    env.close()\n",
        "    imageio.mimsave('video.mp4', frames, fps=30)\n",
        "\n",
        "show_video_of_model(agent, 'LunarLander-v3')\n",
        "\n",
        "def show_video():\n",
        "    mp4list = glob.glob('*.mp4')\n",
        "    if len(mp4list) > 0:\n",
        "        mp4 = mp4list[0]\n",
        "        video = io.open(mp4, 'r+b').read()\n",
        "        encoded = base64.b64encode(video)\n",
        "        display(HTML(data='''<video alt=\"test\" autoplay\n",
        "                loop controls style=\"height: 400px;\">\n",
        "                <source src=\"data:video/mp4;base64,{0}\" type=\"video/mp4\" />\n",
        "             </video>'''.format(encoded.decode('ascii'))))\n",
        "    else:\n",
        "        print(\"Could not find video\")\n",
        "\n",
        "show_video()"
      ],
      "metadata": {
        "id": "PBvsEDzHwsHd",
        "colab": {
          "base_uri": "https://localhost:8080/",
          "height": 459
        },
        "outputId": "21f5c371-d627-46a8-c87c-f1efdde0c29f"
      },
      "execution_count": null,
      "outputs": [
        {
          "output_type": "stream",
          "name": "stderr",
          "text": [
            "WARNING:imageio_ffmpeg:IMAGEIO FFMPEG_WRITER WARNING: input image is not divisible by macro_block_size=16, resizing from (600, 400) to (608, 400) to ensure video compatibility with most codecs and players. To prevent resizing, make your input image divisible by the macro_block_size or set the macro_block_size to 1 (risking incompatibility).\n"
          ]
        },
        {
          "output_type": "display_data",
          "data": {
            "text/plain": [
              "<IPython.core.display.HTML object>"
            ],
            "text/html": [
              "<video alt=\"test\" autoplay\n",
              "                loop controls style=\"height: 400px;\">\n",
              "                <source src=\"data:video/mp4;base64,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\" type=\"video/mp4\" />\n",
              "             </video>"
            ]
          },
          "metadata": {}
        }
      ]
    }
  ],
  "metadata": {
    "colab": {
      "provenance": []
    },
    "kernelspec": {
      "display_name": "Python 3",
      "name": "python3"
    },
    "language_info": {
      "name": "python"
    }
  },
  "nbformat": 4,
  "nbformat_minor": 0
}